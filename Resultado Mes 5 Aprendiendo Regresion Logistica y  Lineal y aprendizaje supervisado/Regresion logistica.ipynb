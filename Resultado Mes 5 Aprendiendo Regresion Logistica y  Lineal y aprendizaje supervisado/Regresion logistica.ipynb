{
 "cells": [
  {
   "cell_type": "markdown",
   "metadata": {},
   "source": [
    "<img src=\"logo.png\">"
   ]
  },
  {
   "cell_type": "code",
   "execution_count": null,
   "metadata": {},
   "outputs": [],
   "source": [
    "import matplotlib.pyplot as plt\n",
    "\n",
    "import pandas as pd\n",
    "import numpy as np\n",
    "from sklearn import datasets"
   ]
  },
  {
   "cell_type": "markdown",
   "metadata": {},
   "source": [
    "Para este ejemplo vamos a utilizar el [Wisconsin Breast Cancer Dataset](https://archive.ics.uci.edu/ml/datasets/Breast+Cancer+Wisconsin+(Diagnostic)). Es un dataset de imagenes de celulas obtenidas de analisis de personas que sufren un posible cancer de mama.\n",
    "\n",
    "Las imagenes tienen el siguiente aspecto:"
   ]
  },
  {
   "cell_type": "markdown",
   "metadata": {},
   "source": [
    "![image.png](ml12.png)"
   ]
  },
  {
   "cell_type": "code",
   "execution_count": null,
   "metadata": {},
   "outputs": [],
   "source": [
    "cancer_datos = datasets.load_breast_cancer()\n",
    "cancer_datos.keys()"
   ]
  },
  {
   "cell_type": "code",
   "execution_count": null,
   "metadata": {},
   "outputs": [],
   "source": [
    "print(cancer_datos[\"DESCR\"])"
   ]
  },
  {
   "cell_type": "code",
   "execution_count": null,
   "metadata": {},
   "outputs": [],
   "source": [
    "cancer_datos[\"target_names\"]"
   ]
  },
  {
   "cell_type": "code",
   "execution_count": null,
   "metadata": {},
   "outputs": [],
   "source": [
    "cancer_df = pd.DataFrame(cancer_datos[\"data\"],\n",
    "                           columns=cancer_datos[\"feature_names\"]\n",
    "                          )\n",
    "\n",
    "cancer_df[\"objetivo\"] = cancer_datos[\"target\"]"
   ]
  },
  {
   "cell_type": "markdown",
   "metadata": {},
   "source": [
    "El dataset contiene los valores medios de ciertos parametros del núcleo de las celulas mostradas en las imágenes, así como dichos valores para la celula con características más preocupantes"
   ]
  },
  {
   "cell_type": "code",
   "execution_count": null,
   "metadata": {},
   "outputs": [],
   "source": [
    "cancer_df.shape"
   ]
  },
  {
   "cell_type": "code",
   "execution_count": null,
   "metadata": {
    "scrolled": true
   },
   "outputs": [],
   "source": [
    "cancer_df.head()"
   ]
  },
  {
   "cell_type": "code",
   "execution_count": null,
   "metadata": {},
   "outputs": [],
   "source": [
    "cancer_df[\"objetivo\"].value_counts(True)"
   ]
  },
  {
   "cell_type": "code",
   "execution_count": null,
   "metadata": {},
   "outputs": [],
   "source": [
    "cancer_df[\"objetivo\"] = cancer_df[\"objetivo\"].replace({1:0,0:1})"
   ]
  },
  {
   "cell_type": "code",
   "execution_count": null,
   "metadata": {},
   "outputs": [],
   "source": [
    "from sklearn.model_selection import train_test_split\n",
    "from sklearn.linear_model import LinearRegression"
   ]
  },
  {
   "cell_type": "code",
   "execution_count": null,
   "metadata": {},
   "outputs": [],
   "source": [
    "train_df, test_df = train_test_split(cancer_df, test_size=0.4)\n",
    "\n",
    "variables_entrenamiento = cancer_datos[\"feature_names\"]\n",
    "variable_objetivo = \"objetivo\""
   ]
  },
  {
   "cell_type": "code",
   "execution_count": null,
   "metadata": {},
   "outputs": [],
   "source": [
    "columna_entrenamiento = \"worst area\"\n",
    "\n",
    "plt.plot(train_df[columna_entrenamiento], train_df.objetivo, '.r')\n",
    "plt.xlabel(\"Peor area encontrada en los nucleos de la imagen\")\n",
    "plt.ylabel(\"Diagnostico (Maligno|Beningno)\");"
   ]
  },
  {
   "cell_type": "code",
   "execution_count": null,
   "metadata": {},
   "outputs": [],
   "source": [
    "modelo_ols = LinearRegression()\n",
    "\n",
    "modelo_ols.fit(train_df[[columna_entrenamiento]],\n",
    "               train_df[variable_objetivo])\n",
    "\n",
    "predicciones = modelo_ols.predict(test_df[[columna_entrenamiento]])\n",
    "\n",
    "predicciones[:10]"
   ]
  },
  {
   "cell_type": "code",
   "execution_count": null,
   "metadata": {},
   "outputs": [],
   "source": [
    "plt.plot(test_df[columna_entrenamiento], test_df.objetivo, '.r')\n",
    "plt.plot(test_df[columna_entrenamiento], predicciones, '.b')\n",
    "plt.xlabel(\"Peor area encontrada en los nucleos de la imagen\")\n",
    "plt.ylabel(\"Diagnostico (Maligno|Beningno)\")"
   ]
  },
  {
   "cell_type": "code",
   "execution_count": null,
   "metadata": {},
   "outputs": [],
   "source": [
    "def funcion_logistica(x,L=1,k=1,x0=0):\n",
    "    return L / (1+np.exp(-k*(x-x0)))\n",
    "\n",
    "predicciones_probabilidades = list(map(funcion_logistica,predicciones))"
   ]
  },
  {
   "cell_type": "code",
   "execution_count": null,
   "metadata": {},
   "outputs": [],
   "source": [
    "plt.plot(test_df[columna_entrenamiento], test_df.objetivo, '.r')\n",
    "plt.plot(test_df[columna_entrenamiento], predicciones, '.b')\n",
    "plt.plot(test_df[columna_entrenamiento], predicciones_probabilidades,'.g')\n",
    "\n",
    "plt.xlabel(\"Peor area encontrada en los nucleos de la imagen\")\n",
    "plt.ylabel(\"Diagnostico (Maligno|Beningno)\")"
   ]
  },
  {
   "cell_type": "code",
   "execution_count": null,
   "metadata": {},
   "outputs": [],
   "source": [
    "from functools import partial\n",
    "\n",
    "funcion_logit_k5 = partial(funcion_logistica, k=5)\n",
    "\n",
    "predicciones_probabilidades = list(map(funcion_logit_k5, predicciones))\n",
    "\n",
    "plt.plot(test_df[columna_entrenamiento], test_df.objetivo, '.r')\n",
    "plt.plot(test_df[columna_entrenamiento], predicciones, '.b')\n",
    "plt.plot(test_df[columna_entrenamiento], predicciones_probabilidades,'.g')\n",
    "\n",
    "plt.xlabel(\"Peor area encontrada en los nucleos de la imagen\")\n",
    "plt.ylabel(\"Diagnostico (Maligno|Beningno)\");"
   ]
  },
  {
   "cell_type": "code",
   "execution_count": null,
   "metadata": {},
   "outputs": [],
   "source": [
    "from sklearn.linear_model import LogisticRegression"
   ]
  },
  {
   "cell_type": "code",
   "execution_count": null,
   "metadata": {},
   "outputs": [],
   "source": [
    "LogisticRegression??"
   ]
  },
  {
   "cell_type": "code",
   "execution_count": null,
   "metadata": {},
   "outputs": [],
   "source": [
    "X = cancer_df[variables_entrenamiento]\n",
    "y = cancer_df[variable_objetivo]\n",
    "X_train, X_test, y_train, y_test = train_test_split(X,y,test_size=0.2)"
   ]
  },
  {
   "cell_type": "code",
   "execution_count": null,
   "metadata": {},
   "outputs": [],
   "source": [
    "X_train"
   ]
  },
  {
   "cell_type": "code",
   "execution_count": null,
   "metadata": {},
   "outputs": [],
   "source": [
    "clf = LogisticRegression(solver=\"liblinear\")\n",
    "clf.fit(X_train, y_train)\n",
    "predicciones = clf.predict(X_test)\n",
    "\n",
    "predicciones[:10]"
   ]
  },
  {
   "cell_type": "code",
   "execution_count": null,
   "metadata": {},
   "outputs": [],
   "source": [
    "predicciones_probabilidades = clf.predict_proba(X_test)\n",
    "predicciones_probabilidades[:10]"
   ]
  },
  {
   "cell_type": "code",
   "execution_count": null,
   "metadata": {},
   "outputs": [],
   "source": [
    "plt.hist(predicciones_probabilidades)"
   ]
  },
  {
   "cell_type": "code",
   "execution_count": null,
   "metadata": {},
   "outputs": [],
   "source": [
    "probs_df = pd.DataFrame(predicciones_probabilidades)"
   ]
  },
  {
   "cell_type": "code",
   "execution_count": null,
   "metadata": {},
   "outputs": [],
   "source": [
    "X = X_test.reset_index().copy()\n",
    "X[\"objetivo\"] = y_test.tolist()\n",
    "X[\"prediccion\"] = predicciones\n",
    "X = pd.concat([X, probs_df], axis=1)\n",
    "X[[\"objetivo\", \"prediccion\", 0, 1]].head(20)"
   ]
  }
 ],
 "metadata": {
  "kernelspec": {
   "display_name": "Python 3 (ipykernel)",
   "language": "python",
   "name": "python3"
  },
  "language_info": {
   "codemirror_mode": {
    "name": "ipython",
    "version": 3
   },
   "file_extension": ".py",
   "mimetype": "text/x-python",
   "name": "python",
   "nbconvert_exporter": "python",
   "pygments_lexer": "ipython3",
   "version": "3.9.7"
  }
 },
 "nbformat": 4,
 "nbformat_minor": 2
}
