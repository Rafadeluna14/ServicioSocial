{
 "cells": [
  {
   "cell_type": "markdown",
   "metadata": {},
   "source": [
    "<img src=\"logo.png\">"
   ]
  },
  {
   "cell_type": "markdown",
   "metadata": {},
   "source": [
    "# Clustering\n",
    "\n",
    "Los métodos de clustering tienen como usos:\n",
    "\n",
    "* Segmentar un dataset para comprender sus características intrínsecas y encontrar grupos de elementos similares.\n",
    "\n",
    "* Detectar elementos anómalos (esto es, elementos que no pertenecen a ningún grupo).\n",
    "\n",
    "* Simplificar datasets al agrupar conjuntos de variables con valores similares.\n",
    "\n",
    "Al tratarse de un método no supervisado, las etiquetas que proporcionan pueden no tener un sentido muy definido. En este sentido, es el investigador quien debe darle un sentido a cada una de estas etiquetas.\n",
    "\n",
    "<img src=\"ml22.png\">"
   ]
  },
  {
   "cell_type": "markdown",
   "metadata": {},
   "source": [
    "## ¿Cómo hacemos clustering?\n",
    "\n",
    "<img src=\"ml23.png\">"
   ]
  }
 ],
 "metadata": {
  "kernelspec": {
   "display_name": "Python 3 (ipykernel)",
   "language": "python",
   "name": "python3"
  },
  "language_info": {
   "codemirror_mode": {
    "name": "ipython",
    "version": 3
   },
   "file_extension": ".py",
   "mimetype": "text/x-python",
   "name": "python",
   "nbconvert_exporter": "python",
   "pygments_lexer": "ipython3",
   "version": "3.9.7"
  }
 },
 "nbformat": 4,
 "nbformat_minor": 4
}
